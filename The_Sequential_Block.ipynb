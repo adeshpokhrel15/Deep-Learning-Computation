{
  "nbformat": 4,
  "nbformat_minor": 0,
  "metadata": {
    "colab": {
      "name": "The Sequential Block.ipynb",
      "provenance": [],
      "collapsed_sections": []
    },
    "kernelspec": {
      "display_name": "Python 3",
      "name": "python3"
    },
    "language_info": {
      "name": "python"
    }
  },
  "cells": [
    {
      "cell_type": "code",
      "metadata": {
        "id": "4-CNKU9vYLup"
      },
      "source": [
        "class MySequential(nn.Block):\n",
        " def add(self, block):\n",
        "# Here, `block` is an instance of a `Block` subclass, and we assume\n",
        "# that it has a unique name. We save it in the member variable\n",
        "# `_children` of the `Block` class, and its type is OrderedDict. When\n",
        "# the `MySequential` instance calls the `initialize` function, the\n",
        "# system automatically initializes all members of `_children`\n",
        "  self._children[block.name] = block\n",
        " def forward(self, X):\n",
        "# OrderedDict guarantees that members will be traversed in the order\n",
        "# they were added\n",
        "  for block in self._children.values():\n",
        "   X = block(X)\n",
        "   return X"
      ],
      "execution_count": 24,
      "outputs": []
    },
    {
      "cell_type": "code",
      "metadata": {
        "id": "hnd52CxkYkOU"
      },
      "source": [
        ""
      ],
      "execution_count": 15,
      "outputs": []
    },
    {
      "cell_type": "code",
      "metadata": {
        "id": "uLxw8q9XYxm_"
      },
      "source": [
        "net = MySequential()\n",
        "net.add(nn.Dense(256, activation='relu'))\n",
        "net.add(nn.Dense(10))\n",
        "net.initialize()\n"
      ],
      "execution_count": 27,
      "outputs": []
    },
    {
      "cell_type": "code",
      "metadata": {
        "id": "EmOlgC4XY0WX"
      },
      "source": [
        "net(X)"
      ],
      "execution_count": null,
      "outputs": []
    }
  ]
}