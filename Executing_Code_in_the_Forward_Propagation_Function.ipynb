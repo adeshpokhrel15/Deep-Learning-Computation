{
  "nbformat": 4,
  "nbformat_minor": 0,
  "metadata": {
    "colab": {
      "name": "Executing Code in the Forward Propagation Function.ipynb",
      "provenance": [],
      "collapsed_sections": []
    },
    "kernelspec": {
      "display_name": "Python 3",
      "name": "python3"
    },
    "language_info": {
      "name": "python"
    }
  },
  "cells": [
    {
      "cell_type": "code",
      "metadata": {
        "id": "4-CNKU9vYLup"
      },
      "source": [
        "class FixedHiddenMLP(nn.Block):\n",
        "  def __init__(self, **kwargs):\n",
        "    super().__init__(**kwargs)\n",
        "# Random weight parameters created with the `get_constant` function\n",
        "# are not updated during training (i.e., constant parameters)\n",
        "    self.rand_weight = self.params.get_constant('rand_weight', np.random.uniform(size=(20, 20)))\n",
        "    self.dense = nn.Dense(20, activation='relu')\n",
        "  def forward(self, X):\n",
        "    X = self.dense(X)\n",
        "# Use the created constant parameters, as well as the `relu` and `dot`\n",
        "# functions\n",
        "X = npx.relu(np.dot(X, self.rand_weight.data()) + 1)\n",
        "# Reuse the fully-connected layer. This is equivalent to sharing\n",
        "# parameters with two fully-connected layers\n",
        "X = self.dense(X)\n",
        "# Control flow\n",
        "while np.abs(X).sum() > 1:\n",
        "  X /= 2\n",
        "  return X.sum()"
      ],
      "execution_count": 29,
      "outputs": []
    },
    {
      "cell_type": "code",
      "metadata": {
        "id": "hnd52CxkYkOU"
      },
      "source": [
        ""
      ],
      "execution_count": 15,
      "outputs": []
    },
    {
      "cell_type": "code",
      "metadata": {
        "id": "uLxw8q9XYxm_"
      },
      "source": [
        "net = FixedHiddenMLP()\n",
        "net.initialize()\n",
        "net(X)\n"
      ],
      "execution_count": 27,
      "outputs": []
    },
    {
      "cell_type": "code",
      "metadata": {
        "id": "EmOlgC4XY0WX"
      },
      "source": [
        ""
      ],
      "execution_count": null,
      "outputs": []
    }
  ]
}