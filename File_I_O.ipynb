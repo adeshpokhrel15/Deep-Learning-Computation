{
  "nbformat": 4,
  "nbformat_minor": 0,
  "metadata": {
    "colab": {
      "name": "File I/O.ipynb",
      "provenance": [],
      "collapsed_sections": []
    },
    "kernelspec": {
      "display_name": "Python 3",
      "name": "python3"
    },
    "language_info": {
      "name": "python"
    }
  },
  "cells": [
    {
      "cell_type": "code",
      "metadata": {
        "id": "XK0V6-VTCkx5"
      },
      "source": [
        "#Loading and Saving Tensors\n"
      ],
      "execution_count": 1,
      "outputs": []
    },
    {
      "cell_type": "code",
      "metadata": {
        "id": "yoCcVo4gCmyI"
      },
      "source": [
        "from mxnet import np, npx\n",
        "from mxnet.gluon import nn\n",
        "npx.set_np()\n",
        "x = np.arange(4)\n",
        "npx.save('x-file', x)"
      ],
      "execution_count": 4,
      "outputs": []
    },
    {
      "cell_type": "code",
      "metadata": {
        "colab": {
          "base_uri": "https://localhost:8080/"
        },
        "id": "bbNz_NaDCnEv",
        "outputId": "5d31d3c1-ea5c-41f5-c9e4-c80590105b10"
      },
      "source": [
        "npx.load('x-file')\n"
      ],
      "execution_count": 5,
      "outputs": [
        {
          "output_type": "execute_result",
          "data": {
            "text/plain": [
              "[array([0., 1., 2., 3.])]"
            ]
          },
          "metadata": {
            "tags": []
          },
          "execution_count": 5
        }
      ]
    },
    {
      "cell_type": "code",
      "metadata": {
        "id": "LdyTxU7mCunO"
      },
      "source": [
        "#Loading and Saving Model Parameters"
      ],
      "execution_count": 6,
      "outputs": []
    },
    {
      "cell_type": "code",
      "metadata": {
        "id": "Tm9tsPS0DSrW"
      },
      "source": [
        "class MLP(nn.Block):\n",
        "  def __init__(self, **kwargs):\n",
        "    super(MLP, self).__init__(**kwargs)\n",
        "    self.hidden = nn.Dense(256, activation='relu')  \n",
        "    self.output = nn.Dense(10)\n",
        "  def forward(self, x):\n",
        "    return self.output(self.hidden(x))\n",
        "net = MLP()\n",
        "net.initialize()\n",
        "X = np.random.uniform(size=(2, 20))\n",
        "Y = net(X)\n"
      ],
      "execution_count": 7,
      "outputs": []
    },
    {
      "cell_type": "code",
      "metadata": {
        "id": "o8KSxkqkDjkV"
      },
      "source": [
        "#store the parameters of the model as a file\n",
        "net.save_parameters('mlp.params')"
      ],
      "execution_count": 8,
      "outputs": []
    },
    {
      "cell_type": "code",
      "metadata": {
        "id": "zHxGWRI1DqjN"
      },
      "source": [
        "clone = MLP()\n",
        "clone.load_parameters('mlp.params')"
      ],
      "execution_count": 9,
      "outputs": []
    },
    {
      "cell_type": "code",
      "metadata": {
        "id": "efElpLwwDq1P",
        "outputId": "82d53a74-a12e-4b5e-afd9-361790f59295",
        "colab": {
          "base_uri": "https://localhost:8080/"
        }
      },
      "source": [
        "Y_clone = clone(X)\n",
        "Y_clone == Y"
      ],
      "execution_count": 10,
      "outputs": [
        {
          "output_type": "execute_result",
          "data": {
            "text/plain": [
              "array([[ True,  True,  True,  True,  True,  True,  True,  True,  True,\n",
              "         True],\n",
              "       [ True,  True,  True,  True,  True,  True,  True,  True,  True,\n",
              "         True]])"
            ]
          },
          "metadata": {
            "tags": []
          },
          "execution_count": 10
        }
      ]
    },
    {
      "cell_type": "code",
      "metadata": {
        "id": "i81LuJb7Dskn"
      },
      "source": [
        ""
      ],
      "execution_count": null,
      "outputs": []
    }
  ]
}