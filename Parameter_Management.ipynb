{
  "nbformat": 4,
  "nbformat_minor": 0,
  "metadata": {
    "colab": {
      "name": "Parameter Management.ipynb",
      "provenance": [],
      "collapsed_sections": []
    },
    "kernelspec": {
      "display_name": "Python 3",
      "name": "python3"
    },
    "language_info": {
      "name": "python"
    }
  },
  "cells": [
    {
      "cell_type": "code",
      "metadata": {
        "id": "EmOlgC4XY0WX",
        "colab": {
          "base_uri": "https://localhost:8080/"
        },
        "outputId": "aaeebdf6-566c-4191-828c-fba9494eca81"
      },
      "source": [
        "from mxnet import init, np, npx\n",
        "from mxnet.gluon import nn\n",
        "npx.set_np()\n",
        "net = nn.Sequential()\n",
        "net.add(nn.Dense(8, activation='relu'))\n",
        "net.add(nn.Dense(1))\n",
        "net.initialize() # Use the default initialization method\n",
        "X = np.random.uniform(size=(2, 4))\n",
        "net(X) # Forward computation"
      ],
      "execution_count": 3,
      "outputs": [
        {
          "output_type": "execute_result",
          "data": {
            "text/plain": [
              "array([[0.0054572 ],\n",
              "       [0.00488594]])"
            ]
          },
          "metadata": {
            "tags": []
          },
          "execution_count": 3
        }
      ]
    },
    {
      "cell_type": "code",
      "metadata": {
        "colab": {
          "base_uri": "https://localhost:8080/"
        },
        "id": "ANhqUzLXZgHF",
        "outputId": "9dde0c16-c4d8-4c42-b850-2f711d24be60"
      },
      "source": [
        "#Parameter Access\n",
        "print(net[1].params)\n"
      ],
      "execution_count": 5,
      "outputs": [
        {
          "output_type": "stream",
          "text": [
            "dense1_ (\n",
            "  Parameter dense1_weight (shape=(1, 8), dtype=float32)\n",
            "  Parameter dense1_bias (shape=(1,), dtype=float32)\n",
            ")\n"
          ],
          "name": "stdout"
        }
      ]
    },
    {
      "cell_type": "code",
      "metadata": {
        "colab": {
          "base_uri": "https://localhost:8080/"
        },
        "id": "n_82V2udZnyx",
        "outputId": "34a5cb53-f41e-498a-a10c-204d21b310f1"
      },
      "source": [
        "#Targeted Parameters\n",
        "print(type(net[1].bias))\n",
        "print(net[1].bias)\n",
        "print(net[1].bias.data())\n"
      ],
      "execution_count": 6,
      "outputs": [
        {
          "output_type": "stream",
          "text": [
            "<class 'mxnet.gluon.parameter.Parameter'>\n",
            "Parameter dense1_bias (shape=(1,), dtype=float32)\n",
            "[0.]\n"
          ],
          "name": "stdout"
        }
      ]
    },
    {
      "cell_type": "code",
      "metadata": {
        "colab": {
          "base_uri": "https://localhost:8080/"
        },
        "id": "ziKlH08aaB3Q",
        "outputId": "63c087b8-07bb-4bd9-addc-ff5b3a512191"
      },
      "source": [
        "#All Parameters at Once\n",
        "print(net[0].collect_params())\n",
        "print(net.collect_params())\n"
      ],
      "execution_count": 7,
      "outputs": [
        {
          "output_type": "stream",
          "text": [
            "dense0_ (\n",
            "  Parameter dense0_weight (shape=(8, 4), dtype=float32)\n",
            "  Parameter dense0_bias (shape=(8,), dtype=float32)\n",
            ")\n",
            "sequential0_ (\n",
            "  Parameter dense0_weight (shape=(8, 4), dtype=float32)\n",
            "  Parameter dense0_bias (shape=(8,), dtype=float32)\n",
            "  Parameter dense1_weight (shape=(1, 8), dtype=float32)\n",
            "  Parameter dense1_bias (shape=(1,), dtype=float32)\n",
            ")\n"
          ],
          "name": "stdout"
        }
      ]
    },
    {
      "cell_type": "code",
      "metadata": {
        "colab": {
          "base_uri": "https://localhost:8080/"
        },
        "id": "5wUb-3t3aH4d",
        "outputId": "8a483943-eaa3-4529-cdb2-eabf61ead8db"
      },
      "source": [
        "net.collect_params()['dense1_bias'].data()\n"
      ],
      "execution_count": 8,
      "outputs": [
        {
          "output_type": "execute_result",
          "data": {
            "text/plain": [
              "array([0.])"
            ]
          },
          "metadata": {
            "tags": []
          },
          "execution_count": 8
        }
      ]
    },
    {
      "cell_type": "code",
      "metadata": {
        "colab": {
          "base_uri": "https://localhost:8080/"
        },
        "id": "2ODYlY-XaTnY",
        "outputId": "4f382f67-a333-4129-f93c-b6556f1de0e8"
      },
      "source": [
        "#Collecting Parameters from Nested Blocks\n",
        "def block1():\n",
        "  net = nn.Sequential()\n",
        "  net.add(nn.Dense(32, activation='relu'))\n",
        "  net.add(nn.Dense(16, activation='relu'))\n",
        "  return net\n",
        "def block2():\n",
        "  net = nn.Sequential()\n",
        "  for _ in range(4):\n",
        "# Nested here\n",
        "    net.add(block1())\n",
        "  return net\n",
        "rgnet = nn.Sequential()\n",
        "rgnet.add(block2())\n",
        "rgnet.add(nn.Dense(10))\n",
        "rgnet.initialize()\n",
        "rgnet(X)"
      ],
      "execution_count": 11,
      "outputs": [
        {
          "output_type": "execute_result",
          "data": {
            "text/plain": [
              "array([[-6.3465846e-09, -1.1096752e-09,  6.4161787e-09,  6.6354140e-09,\n",
              "        -1.1265507e-09,  1.3284951e-10,  9.3619388e-09,  3.2229084e-09,\n",
              "         5.9429879e-09,  8.8181435e-09],\n",
              "       [-8.6219423e-09, -7.5150686e-10,  8.3133251e-09,  8.9321128e-09,\n",
              "        -1.6740003e-09,  3.2405989e-10,  1.2115976e-08,  4.4926449e-09,\n",
              "         8.0741742e-09,  1.2075874e-08]])"
            ]
          },
          "metadata": {
            "tags": []
          },
          "execution_count": 11
        }
      ]
    },
    {
      "cell_type": "code",
      "metadata": {
        "colab": {
          "base_uri": "https://localhost:8080/"
        },
        "id": "VpJ-VeisaY1s",
        "outputId": "09307a7c-fc3a-4f50-a8e2-382c3b3e6b5f"
      },
      "source": [
        "print(rgnet.collect_params)\n",
        "print(rgnet.collect_params())\n"
      ],
      "execution_count": 12,
      "outputs": [
        {
          "output_type": "stream",
          "text": [
            "<bound method Block.collect_params of Sequential(\n",
            "  (0): Sequential(\n",
            "    (0): Sequential(\n",
            "      (0): Dense(4 -> 32, Activation(relu))\n",
            "      (1): Dense(32 -> 16, Activation(relu))\n",
            "    )\n",
            "    (1): Sequential(\n",
            "      (0): Dense(16 -> 32, Activation(relu))\n",
            "      (1): Dense(32 -> 16, Activation(relu))\n",
            "    )\n",
            "    (2): Sequential(\n",
            "      (0): Dense(16 -> 32, Activation(relu))\n",
            "      (1): Dense(32 -> 16, Activation(relu))\n",
            "    )\n",
            "    (3): Sequential(\n",
            "      (0): Dense(16 -> 32, Activation(relu))\n",
            "      (1): Dense(32 -> 16, Activation(relu))\n",
            "    )\n",
            "  )\n",
            "  (1): Dense(16 -> 10, linear)\n",
            ")>\n",
            "sequential1_ (\n",
            "  Parameter dense2_weight (shape=(32, 4), dtype=float32)\n",
            "  Parameter dense2_bias (shape=(32,), dtype=float32)\n",
            "  Parameter dense3_weight (shape=(16, 32), dtype=float32)\n",
            "  Parameter dense3_bias (shape=(16,), dtype=float32)\n",
            "  Parameter dense4_weight (shape=(32, 16), dtype=float32)\n",
            "  Parameter dense4_bias (shape=(32,), dtype=float32)\n",
            "  Parameter dense5_weight (shape=(16, 32), dtype=float32)\n",
            "  Parameter dense5_bias (shape=(16,), dtype=float32)\n",
            "  Parameter dense6_weight (shape=(32, 16), dtype=float32)\n",
            "  Parameter dense6_bias (shape=(32,), dtype=float32)\n",
            "  Parameter dense7_weight (shape=(16, 32), dtype=float32)\n",
            "  Parameter dense7_bias (shape=(16,), dtype=float32)\n",
            "  Parameter dense8_weight (shape=(32, 16), dtype=float32)\n",
            "  Parameter dense8_bias (shape=(32,), dtype=float32)\n",
            "  Parameter dense9_weight (shape=(16, 32), dtype=float32)\n",
            "  Parameter dense9_bias (shape=(16,), dtype=float32)\n",
            "  Parameter dense10_weight (shape=(10, 16), dtype=float32)\n",
            "  Parameter dense10_bias (shape=(10,), dtype=float32)\n",
            ")\n"
          ],
          "name": "stdout"
        }
      ]
    },
    {
      "cell_type": "code",
      "metadata": {
        "colab": {
          "base_uri": "https://localhost:8080/"
        },
        "id": "7XtWRorlafhQ",
        "outputId": "8da06999-f75d-4015-f137-f314f08bfcb7"
      },
      "source": [
        "rgnet[0][1][0].bias.data()"
      ],
      "execution_count": 13,
      "outputs": [
        {
          "output_type": "execute_result",
          "data": {
            "text/plain": [
              "array([0., 0., 0., 0., 0., 0., 0., 0., 0., 0., 0., 0., 0., 0., 0., 0., 0.,\n",
              "       0., 0., 0., 0., 0., 0., 0., 0., 0., 0., 0., 0., 0., 0., 0.])"
            ]
          },
          "metadata": {
            "tags": []
          },
          "execution_count": 13
        }
      ]
    },
    {
      "cell_type": "code",
      "metadata": {
        "id": "ikOUIbjSajN6"
      },
      "source": [
        "#### Parameter Initialization ##"
      ],
      "execution_count": 15,
      "outputs": []
    },
    {
      "cell_type": "code",
      "metadata": {
        "colab": {
          "base_uri": "https://localhost:8080/"
        },
        "id": "H7l29QfkasnV",
        "outputId": "45a2d68d-e42c-4683-c0a0-692626848cf6"
      },
      "source": [
        "#Built-in Initialization\n",
        "# Here `force_reinit` ensures that parameters are freshly initialized even if\n",
        "# they were already initialized previously\n",
        "net.initialize(init=init.Normal(sigma=0.01), force_reinit=True)\n",
        "net[0].weight.data()[0]"
      ],
      "execution_count": 16,
      "outputs": [
        {
          "output_type": "execute_result",
          "data": {
            "text/plain": [
              "array([-0.00324057, -0.00895028, -0.00698632,  0.01030831])"
            ]
          },
          "metadata": {
            "tags": []
          },
          "execution_count": 16
        }
      ]
    },
    {
      "cell_type": "code",
      "metadata": {
        "colab": {
          "base_uri": "https://localhost:8080/"
        },
        "id": "wf2F0IthayTj",
        "outputId": "55133d93-07f1-466b-99d5-621247fe2a14"
      },
      "source": [
        "#Tied Parameters\n",
        "net = nn.Sequential()\n",
        "# We need to give the shared layer a name so that we can refer to its\n",
        "# parameters\n",
        "shared = nn.Dense(8, activation='relu')\n",
        "net.add(nn.Dense(8, activation='relu'), shared,\n",
        "nn.Dense(8, activation='relu', params=shared.params), nn.Dense(10))\n",
        "net.initialize()\n",
        "X = np.random.uniform(size=(2, 20))\n",
        "net(X)\n",
        "# Check whether the parameters are the same\n",
        "print(net[1].weight.data()[0] == net[2].weight.data()[0])\n",
        "net[1].weight.data()[0, 0] = 100\n",
        "# Make sure that they are actually the same object rather than just having the\n",
        "# same value\n",
        "print(net[1].weight.data()[0] == net[2].weight.data()[0])\n"
      ],
      "execution_count": 22,
      "outputs": [
        {
          "output_type": "stream",
          "text": [
            "[ True  True  True  True  True  True  True  True]\n",
            "[ True  True  True  True  True  True  True  True]\n"
          ],
          "name": "stdout"
        }
      ]
    },
    {
      "cell_type": "code",
      "metadata": {
        "id": "xRmyUyxua4P0"
      },
      "source": [
        ""
      ],
      "execution_count": null,
      "outputs": []
    }
  ]
}