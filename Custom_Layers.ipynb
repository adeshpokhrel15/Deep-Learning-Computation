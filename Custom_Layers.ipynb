{
  "nbformat": 4,
  "nbformat_minor": 0,
  "metadata": {
    "colab": {
      "name": "Custom Layers.ipynb",
      "provenance": [],
      "collapsed_sections": []
    },
    "kernelspec": {
      "display_name": "Python 3",
      "name": "python3"
    },
    "language_info": {
      "name": "python"
    }
  },
  "cells": [
    {
      "cell_type": "code",
      "metadata": {
        "id": "zYyn9OWIshrw"
      },
      "source": [
        "# We gonna create a layer which does not exists yet in the deep learning framework."
      ],
      "execution_count": null,
      "outputs": []
    },
    {
      "cell_type": "code",
      "metadata": {
        "id": "obnqzdjx0mii"
      },
      "source": [
        "### Layers without parameters\n"
      ],
      "execution_count": 11,
      "outputs": []
    },
    {
      "cell_type": "code",
      "metadata": {
        "id": "2IGaLcSVd4c0"
      },
      "source": [
        "from mxnet import np, npx\n",
        "from mxnet.gluon import nn\n",
        "  \n",
        "npx.set_np()"
      ],
      "execution_count": 12,
      "outputs": []
    },
    {
      "cell_type": "code",
      "metadata": {
        "id": "4Vxn4MJEeKcc"
      },
      "source": [
        "class CenteredLayer(nn.Block):\n",
        "  def __init__(self, **kwargs):\n",
        "    super().__init__(**kwargs)\n",
        "  def forward(self, X):\n",
        "    return X - X.mean()\n"
      ],
      "execution_count": 13,
      "outputs": []
    },
    {
      "cell_type": "code",
      "metadata": {
        "colab": {
          "base_uri": "https://localhost:8080/"
        },
        "id": "t-cFo7Nket8h",
        "outputId": "8d57f933-0681-4d46-b0a2-7dbfe79b42f3"
      },
      "source": [
        "#lets give some data \n",
        "layer = CenteredLayer()\n",
        "layer(np.array([1, 2, 3, 4, 5]))"
      ],
      "execution_count": 14,
      "outputs": [
        {
          "output_type": "execute_result",
          "data": {
            "text/plain": [
              "array([-2., -1.,  0.,  1.,  2.])"
            ]
          },
          "metadata": {
            "tags": []
          },
          "execution_count": 14
        }
      ]
    },
    {
      "cell_type": "code",
      "metadata": {
        "id": "MVFVBR8ifH9I"
      },
      "source": [
        "net = nn.Sequential()\n",
        "net.add(nn.Dense(128), CenteredLayer())\n",
        "net.initialize()"
      ],
      "execution_count": 15,
      "outputs": []
    },
    {
      "cell_type": "code",
      "metadata": {
        "colab": {
          "base_uri": "https://localhost:8080/"
        },
        "id": "z2wW4vv_fXwG",
        "outputId": "a7c485ef-e03b-49e9-f8f6-ef0cf21b0c71"
      },
      "source": [
        "Y = net(np.random.uniform(size=(4, 8)))\n",
        "Y.mean()\n"
      ],
      "execution_count": 16,
      "outputs": [
        {
          "output_type": "execute_result",
          "data": {
            "text/plain": [
              "array(3.783498e-10)"
            ]
          },
          "metadata": {
            "tags": []
          },
          "execution_count": 16
        }
      ]
    },
    {
      "cell_type": "code",
      "metadata": {
        "id": "uyQcQoWRfZ6z"
      },
      "source": [
        "###"
      ],
      "execution_count": 17,
      "outputs": []
    },
    {
      "cell_type": "code",
      "metadata": {
        "id": "UPx2DGVCjRx4"
      },
      "source": [
        "#### With Parameters"
      ],
      "execution_count": 18,
      "outputs": []
    },
    {
      "cell_type": "code",
      "metadata": {
        "id": "dQo1MDJsBYug"
      },
      "source": [
        "class MyDense(nn.Block):\n",
        "  def __init__(self, units, in_units, **kwargs):\n",
        "    super().__init__(**kwargs)\n",
        "    self.weight = self.params.get('weight', shape=(in_units, units))\n",
        "    self.bias = self.params.get('bias', shape=(units,))\n",
        "  def forward(self, x):\n",
        "    linear = np.dot(x, self.weight.data(ctx=x.ctx)) + self.bias.data(ctx=x.ctx)\n",
        "    return npx.relu(linear)"
      ],
      "execution_count": 24,
      "outputs": []
    },
    {
      "cell_type": "code",
      "metadata": {
        "colab": {
          "base_uri": "https://localhost:8080/"
        },
        "id": "TfaTFN7UBs1K",
        "outputId": "c4650756-0f77-48ce-a611-bcfaaba134a6"
      },
      "source": [
        "dense = MyDense(units=3, in_units=5)\n",
        "dense.params"
      ],
      "execution_count": 25,
      "outputs": [
        {
          "output_type": "execute_result",
          "data": {
            "text/plain": [
              "mydense0_ (\n",
              "  Parameter mydense0_weight (shape=(5, 3), dtype=<class 'numpy.float32'>)\n",
              "  Parameter mydense0_bias (shape=(3,), dtype=<class 'numpy.float32'>)\n",
              ")"
            ]
          },
          "metadata": {
            "tags": []
          },
          "execution_count": 25
        }
      ]
    },
    {
      "cell_type": "code",
      "metadata": {
        "colab": {
          "base_uri": "https://localhost:8080/"
        },
        "id": "u6GYQA2XCFlP",
        "outputId": "2c45d0df-0896-4a16-afa9-bf47e8e69e97"
      },
      "source": [
        "dense.initialize()\n",
        "dense(np.random.uniform(size=(2, 5)))\n"
      ],
      "execution_count": 26,
      "outputs": [
        {
          "output_type": "execute_result",
          "data": {
            "text/plain": [
              "array([[0.        , 0.01633355, 0.        ],\n",
              "       [0.        , 0.01581812, 0.        ]])"
            ]
          },
          "metadata": {
            "tags": []
          },
          "execution_count": 26
        }
      ]
    },
    {
      "cell_type": "code",
      "metadata": {
        "colab": {
          "base_uri": "https://localhost:8080/"
        },
        "id": "vxPVlCdwCIY6",
        "outputId": "ea8205f8-efa9-41b6-9236-3c8a56abf45f"
      },
      "source": [
        "net = nn.Sequential()\n",
        "net.add(MyDense(8, in_units=64), MyDense(1, in_units=8))\n",
        "net.initialize()\n",
        "net(np.random.uniform(size=(2, 64)))"
      ],
      "execution_count": 27,
      "outputs": [
        {
          "output_type": "execute_result",
          "data": {
            "text/plain": [
              "array([[0.06508517],\n",
              "       [0.0615553 ]])"
            ]
          },
          "metadata": {
            "tags": []
          },
          "execution_count": 27
        }
      ]
    },
    {
      "cell_type": "code",
      "metadata": {
        "id": "Wv34AFwsCKPh"
      },
      "source": [
        ""
      ],
      "execution_count": null,
      "outputs": []
    }
  ]
}