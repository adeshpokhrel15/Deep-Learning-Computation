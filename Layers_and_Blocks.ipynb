{
  "nbformat": 4,
  "nbformat_minor": 0,
  "metadata": {
    "colab": {
      "name": "Layers and Blocks.ipynb",
      "provenance": [],
      "collapsed_sections": []
    },
    "kernelspec": {
      "display_name": "Python 3",
      "name": "python3"
    },
    "language_info": {
      "name": "python"
    }
  },
  "cells": [
    {
      "cell_type": "code",
      "metadata": {
        "id": "s4XE4vVLrEll"
      },
      "source": [
        "#importing the library \n",
        "from mxnet import np, npx\n",
        "from mxnet.gluon import nn\n"
      ],
      "execution_count": 4,
      "outputs": []
    },
    {
      "cell_type": "code",
      "metadata": {
        "id": "Uk2vPhZO-y8U"
      },
      "source": [
        "npx.set_np()"
      ],
      "execution_count": 5,
      "outputs": []
    },
    {
      "cell_type": "code",
      "metadata": {
        "id": "mvLJwq45-9PR"
      },
      "source": [
        "net= nn.Sequential()  # instantiating an nn.Sequential\n"
      ],
      "execution_count": 7,
      "outputs": []
    },
    {
      "cell_type": "code",
      "metadata": {
        "id": "hdZhmgAJ_VlS"
      },
      "source": [
        "#call its add function, appending layers the order that they should be executed\n",
        "#add function simply facilitates the addition of each successive Block to the list\n",
        "net.add(nn.Dense(256,activation='relu'))  \n",
        "net.add(nn.Dense(10))\n",
        "net.initialize()"
      ],
      "execution_count": 8,
      "outputs": []
    },
    {
      "cell_type": "code",
      "metadata": {
        "id": "GWPgaUKA_dV8"
      },
      "source": [
        "X=np.random.uniform(size=(2,30))\n"
      ],
      "execution_count": 9,
      "outputs": []
    },
    {
      "cell_type": "code",
      "metadata": {
        "colab": {
          "base_uri": "https://localhost:8080/"
        },
        "id": "t3CZBRYJ_jH6",
        "outputId": "be07fdcc-6aba-4bbc-94ae-53b64271c45f"
      },
      "source": [
        "net(X)"
      ],
      "execution_count": 10,
      "outputs": [
        {
          "output_type": "execute_result",
          "data": {
            "text/plain": [
              "array([[-0.01825925, -0.08279522, -0.00709276,  0.10244486,  0.00173708,\n",
              "         0.09144314, -0.06917027, -0.04833335, -0.03162614,  0.18727563],\n",
              "       [ 0.01969574, -0.05674934,  0.01006595,  0.08930522,  0.01054337,\n",
              "         0.10621198, -0.04380802, -0.05247312, -0.01370876,  0.19194213]])"
            ]
          },
          "metadata": {
            "tags": []
          },
          "execution_count": 10
        }
      ]
    },
    {
      "cell_type": "code",
      "metadata": {
        "id": "eBMKSqVz_kA6"
      },
      "source": [
        ""
      ],
      "execution_count": null,
      "outputs": []
    }
  ]
}