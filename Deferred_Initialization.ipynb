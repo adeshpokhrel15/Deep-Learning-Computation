{
  "nbformat": 4,
  "nbformat_minor": 0,
  "metadata": {
    "colab": {
      "name": "Deferred Initialization.ipynb",
      "provenance": [],
      "collapsed_sections": []
    },
    "kernelspec": {
      "display_name": "Python 3",
      "name": "python3"
    },
    "language_info": {
      "name": "python"
    }
  },
  "cells": [
    {
      "cell_type": "code",
      "metadata": {
        "id": "zYyn9OWIshrw"
      },
      "source": [
        "#Instantiating a Network\n",
        "#Lets inilize the MLP\n",
        "#pip install mxnet (if you dont have mxnet)\n"
      ],
      "execution_count": 9,
      "outputs": []
    },
    {
      "cell_type": "code",
      "metadata": {
        "id": "obnqzdjx0mii"
      },
      "source": [
        "from mxnet import np,npx\n",
        "from mxnet.gluon import nn"
      ],
      "execution_count": 10,
      "outputs": []
    },
    {
      "cell_type": "code",
      "metadata": {
        "id": "2IGaLcSVd4c0"
      },
      "source": [
        "npx.set_np()\n"
      ],
      "execution_count": 11,
      "outputs": []
    },
    {
      "cell_type": "code",
      "metadata": {
        "colab": {
          "base_uri": "https://localhost:8080/",
          "height": 52
        },
        "id": "4Vxn4MJEeKcc",
        "outputId": "9916628b-6960-4968-9617-7889f64f9f89"
      },
      "source": [
        "def get_net():\n",
        "  net=nn.Sequential()\n",
        "  net.add(nn.Dense(256,activation='relu'))\n",
        "  net.add(nn.Dense(10))\n",
        "  return net\n",
        "net=get_net()\n",
        "\n",
        "''' At this point network cannot know the dimension of the input layer's so \n",
        "we use parameters here.'''"
      ],
      "execution_count": 13,
      "outputs": [
        {
          "output_type": "execute_result",
          "data": {
            "application/vnd.google.colaboratory.intrinsic+json": {
              "type": "string"
            },
            "text/plain": [
              "\" At this point network cannot know the dimension of the input layer's so \\nwe use parameters here.\""
            ]
          },
          "metadata": {
            "tags": []
          },
          "execution_count": 13
        }
      ]
    },
    {
      "cell_type": "code",
      "metadata": {
        "colab": {
          "base_uri": "https://localhost:8080/"
        },
        "id": "t-cFo7Nket8h",
        "outputId": "871c52a0-8de2-457e-8509-a5feb447c1af"
      },
      "source": [
        "print(net.collect_params)\n",
        "print(net.collect_params())  \n",
        "\n",
        "#MXNet uses the special value -1 to indicate that the parameter dimension remains unknown."
      ],
      "execution_count": 14,
      "outputs": [
        {
          "output_type": "stream",
          "text": [
            "<bound method Block.collect_params of Sequential(\n",
            "  (0): Dense(-1 -> 256, Activation(relu))\n",
            "  (1): Dense(-1 -> 10, linear)\n",
            ")>\n",
            "sequential1_ (\n",
            "  Parameter dense2_weight (shape=(256, -1), dtype=float32)\n",
            "  Parameter dense2_bias (shape=(256,), dtype=float32)\n",
            "  Parameter dense3_weight (shape=(10, -1), dtype=float32)\n",
            "  Parameter dense3_bias (shape=(10,), dtype=float32)\n",
            ")\n"
          ],
          "name": "stdout"
        }
      ]
    },
    {
      "cell_type": "code",
      "metadata": {
        "colab": {
          "base_uri": "https://localhost:8080/"
        },
        "id": "MVFVBR8ifH9I",
        "outputId": "b17e1f2a-ba6f-4040-beaa-f9525dcf7ac4"
      },
      "source": [
        "net.initialize()\n",
        "net.collect_params()"
      ],
      "execution_count": 15,
      "outputs": [
        {
          "output_type": "execute_result",
          "data": {
            "text/plain": [
              "sequential1_ (\n",
              "  Parameter dense2_weight (shape=(256, -1), dtype=float32)\n",
              "  Parameter dense2_bias (shape=(256,), dtype=float32)\n",
              "  Parameter dense3_weight (shape=(10, -1), dtype=float32)\n",
              "  Parameter dense3_bias (shape=(10,), dtype=float32)\n",
              ")"
            ]
          },
          "metadata": {
            "tags": []
          },
          "execution_count": 15
        }
      ]
    },
    {
      "cell_type": "code",
      "metadata": {
        "colab": {
          "base_uri": "https://localhost:8080/"
        },
        "id": "z2wW4vv_fXwG",
        "outputId": "34b71023-24a8-4bb7-fbad-28944de88cf0"
      },
      "source": [
        "#let us pass data through the network to make the framework finally initialize parameters.\n",
        "X = np.random.uniform(size=(2, 20))\n",
        "net(X)\n",
        "net.collect_params()"
      ],
      "execution_count": 16,
      "outputs": [
        {
          "output_type": "execute_result",
          "data": {
            "text/plain": [
              "sequential1_ (\n",
              "  Parameter dense2_weight (shape=(256, 20), dtype=float32)\n",
              "  Parameter dense2_bias (shape=(256,), dtype=float32)\n",
              "  Parameter dense3_weight (shape=(10, 256), dtype=float32)\n",
              "  Parameter dense3_bias (shape=(10,), dtype=float32)\n",
              ")"
            ]
          },
          "metadata": {
            "tags": []
          },
          "execution_count": 16
        }
      ]
    },
    {
      "cell_type": "code",
      "metadata": {
        "id": "uyQcQoWRfZ6z"
      },
      "source": [
        "''' The framework can identify the shape of the first layerʼs weight matrix by plugging in the value.\n",
        "Having recognized the first layerʼs shape, the framework proceeds to the second layer, and so on through the computational graph until all shapes are known."
      ],
      "execution_count": null,
      "outputs": []
    }
  ]
}