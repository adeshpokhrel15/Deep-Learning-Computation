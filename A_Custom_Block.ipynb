{
  "nbformat": 4,
  "nbformat_minor": 0,
  "metadata": {
    "colab": {
      "name": "A Custom Block.ipynb",
      "provenance": [],
      "collapsed_sections": []
    },
    "kernelspec": {
      "display_name": "Python 3",
      "name": "python3"
    },
    "language_info": {
      "name": "python"
    }
  },
  "cells": [
    {
      "cell_type": "code",
      "metadata": {
        "id": "4-CNKU9vYLup"
      },
      "source": [
        "from mxnet import np, npx\n",
        "from mxnet.gluon import nn\n",
        "class MLP(nn.Block):\n",
        "# Declare a layer with model parameters. Here, we declare two\n",
        "# fully-connected layers\n",
        "  def __init__(self, **kwargs):\n",
        "# Call the constructor of the `MLP` parent class `Block` to perform\n",
        "# the necessary initialization. In this way, other function arguments\n",
        "# can also be specified during class instantiation, such as the model\n",
        "# parameters, `params` (to be described later)\n",
        "    super().__init__(**kwargs)\n",
        "    self.hidden = nn.Dense(256, activation='relu') # Hidden layer\n",
        "    self.out = nn.Dense(10) # Output layer\n",
        "# Define the forward propagation of the model, that is, how to return the\n",
        "# required model output based on the input `X`\n",
        "  def forward(self, X):\n",
        "    return self.out(self.hidden(X))\n"
      ],
      "execution_count": 14,
      "outputs": []
    },
    {
      "cell_type": "code",
      "metadata": {
        "id": "hnd52CxkYkOU"
      },
      "source": [
        "net=MLP()"
      ],
      "execution_count": 15,
      "outputs": []
    },
    {
      "cell_type": "code",
      "metadata": {
        "id": "uLxw8q9XYxm_"
      },
      "source": [
        "net.initialize()\n",
        "net(X)"
      ],
      "execution_count": 20,
      "outputs": []
    },
    {
      "cell_type": "code",
      "metadata": {
        "id": "EmOlgC4XY0WX"
      },
      "source": [
        ""
      ],
      "execution_count": null,
      "outputs": []
    }
  ]
}